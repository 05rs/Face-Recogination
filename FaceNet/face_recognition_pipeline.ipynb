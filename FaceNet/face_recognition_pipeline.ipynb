{
  "nbformat": 4,
  "nbformat_minor": 0,
  "metadata": {
    "accelerator": "GPU",
    "colab": {
      "name": "face-rec.ipynb",
      "provenance": [],
      "collapsed_sections": []
    },
    "kernelspec": {
      "display_name": "Python 3",
      "language": "python",
      "name": "python3"
    },
    "language_info": {
      "codemirror_mode": {
        "name": "ipython",
        "version": 3
      },
      "file_extension": ".py",
      "mimetype": "text/x-python",
      "name": "python",
      "nbconvert_exporter": "python",
      "pygments_lexer": "ipython3",
      "version": "3.7.3"
    }
  },
  "cells": [
    {
      "cell_type": "markdown",
      "metadata": {
        "id": "Fwh4XMLlP2HI"
      },
      "source": [
        "## Deep face recognition \n",
        "\n",
        "Face recognition identifies persons on face images or video frames. In a nutshell, a face recognition system extracts features from an input face image and compares them to the features of labeled faces in a database. Comparison is based on a feature similarity metric and the label of the most similar database entry is used to label the input image. If the similarity value is below a certain threshold the input image is labeled as *unknown*. Comparing two face images to determine if they show the same person is known as face verification.\n",
        "\n",
        "This notebook uses a deep convolutional neural network (CNN) to extract features from input images. It follows the approach described in [[1]](https://arxiv.org/abs/1503.03832) with modifications inspired by the [OpenFace](http://cmusatyalab.github.io/openface/) project. [Keras](https://keras.io/) is used for implementing the CNN, [Dlib](http://dlib.net/) and [OpenCV](https://opencv.org/) for aligning faces on input images. Face recognition performance is evaluated on a small subset of the [LFW](http://vis-www.cs.umass.edu/lfw/) dataset which you can replace with your own custom dataset e.g. with images of your family and friends if you want to further experiment with this notebook. After an overview of the CNN architecure and how the model can be trained, it is demonstrated how to:\n",
        "\n",
        "- Detect, transform, and crop faces on input images. This ensures that faces are aligned before feeding them into the CNN. This preprocessing step is very important for the performance of the neural network.\n",
        "- Use the CNN to extract 128-dimensional representations, or *embeddings*, of faces from the aligned input images. In embedding space, Euclidean distance directly corresponds to a measure of face similarity. \n",
        "- Compare input embedding vectors to labeled embedding vectors in a database. Here, a support vector machine (SVM) and a KNN classifier, trained on labeled embedding vectors, play the role of a database. Face recognition in this context means using these classifiers to predict the labels i.e. identities of new inputs.\n",
        "\n",
        "### Environment setup\n",
        "\n",
        "For running this notebook, create and activate a new [virtual environment](https://docs.python.org/3/tutorial/venv.html) and install the packages listed in [requirements.txt](requirements.txt) with `pip install -r requirements.txt`. Furthermore, you'll need a local copy of Dlib's face landmarks data file for running face alignment:"
      ]
    },
    {
      "cell_type": "code",
      "metadata": {
        "id": "8x17rEzmh06V",
        "outputId": "978bed57-3365-4e1f-8dff-1066737c5f5c",
        "colab": {
          "base_uri": "https://localhost:8080/"
        }
      },
      "source": [
        "!git clone https://github.com/05rs/Face-Recogination.git\n",
        "import sys\n",
        "sys.path.append('./Face-Recogination/FaceNet')\n",
        "!pip install -r '/content/Face-Recogination/FaceNet/requirements.txt'\n",
        "import align\n",
        "import data\n",
        "import utils\n",
        "import model\n",
        "import matplotlib.pyplot as plt\n"
      ],
      "execution_count": 1,
      "outputs": [
        {
          "output_type": "stream",
          "text": [
            "Cloning into 'Face-Recogination'...\n",
            "remote: Enumerating objects: 49, done.\u001b[K\n",
            "remote: Counting objects: 100% (49/49), done.\u001b[K\n",
            "remote: Compressing objects: 100% (43/43), done.\u001b[K\n",
            "remote: Total 456 (delta 13), reused 30 (delta 3), pack-reused 407\u001b[K\n",
            "Receiving objects: 100% (456/456), 137.76 MiB | 17.70 MiB/s, done.\n",
            "Resolving deltas: 100% (20/20), done.\n",
            "Checking out files: 100% (618/618), done.\n",
            "Collecting absl-py==0.1.10\n",
            "\u001b[?25l  Downloading https://files.pythonhosted.org/packages/5f/b8/3dafc45f20a817ab9f042302646bcbe6f7e26e8a760871a85637e53a35ec/absl-py-0.1.10.tar.gz (79kB)\n",
            "\u001b[K     |████████████████████████████████| 81kB 2.2MB/s \n",
            "\u001b[?25hCollecting appnope==0.1.0\n",
            "  Downloading https://files.pythonhosted.org/packages/87/a9/7985e6a53402f294c8f0e8eff3151a83f1fb901fa92909bb3ff29b4d22af/appnope-0.1.0-py2.py3-none-any.whl\n",
            "Collecting bleach==1.5.0\n",
            "  Downloading https://files.pythonhosted.org/packages/33/70/86c5fec937ea4964184d4d6c4f0b9551564f821e1c3575907639036d9b90/bleach-1.5.0-py2.py3-none-any.whl\n",
            "Requirement already satisfied: cycler==0.10.0 in /usr/local/lib/python3.6/dist-packages (from -r /content/Face-Recogination/FaceNet/requirements.txt (line 4)) (0.10.0)\n",
            "Collecting decorator==4.2.1\n",
            "  Downloading https://files.pythonhosted.org/packages/e1/5a/53db15bf367d2028bdc6700dbdf1bdfab46b9f208b7516952817c0808118/decorator-4.2.1-py2.py3-none-any.whl\n",
            "Collecting dlib==19.9.0\n",
            "\u001b[?25l  Downloading https://files.pythonhosted.org/packages/23/7a/891d4c46cdf755fb69eec0f06a53033d3754bf68ace5342ad56aeb540aa1/dlib-19.9.0.tar.gz (3.1MB)\n",
            "\u001b[K     |████████████████████████████████| 3.1MB 8.4MB/s \n",
            "\u001b[?25hCollecting entrypoints==0.2.3\n",
            "  Downloading https://files.pythonhosted.org/packages/cc/8b/4eefa9b47f1910b3d2081da67726b066e379b04ca897acfe9f92bac56147/entrypoints-0.2.3-py2.py3-none-any.whl\n",
            "Collecting h5py==2.7.1\n",
            "\u001b[?25l  Downloading https://files.pythonhosted.org/packages/f2/b8/a63fcc840bba5c76e453dd712dbca63178a264c8990e0086b72965d4e954/h5py-2.7.1-cp36-cp36m-manylinux1_x86_64.whl (5.4MB)\n",
            "\u001b[K     |████████████████████████████████| 5.4MB 18.6MB/s \n",
            "\u001b[?25hCollecting html5lib==0.9999999\n",
            "\u001b[?25l  Downloading https://files.pythonhosted.org/packages/ae/ae/bcb60402c60932b32dfaf19bb53870b29eda2cd17551ba5639219fb5ebf9/html5lib-0.9999999.tar.gz (889kB)\n",
            "\u001b[K     |████████████████████████████████| 890kB 34.7MB/s \n",
            "\u001b[?25hCollecting ipykernel==4.8.0\n",
            "\u001b[?25l  Downloading https://files.pythonhosted.org/packages/32/ea/73a743bc29672bcc9e3470317c1b20fe02f3ec2a275737f7c84ad7e96d1a/ipykernel-4.8.0-py3-none-any.whl (108kB)\n",
            "\u001b[K     |████████████████████████████████| 112kB 41.7MB/s \n",
            "\u001b[?25hCollecting ipython==6.2.1\n",
            "\u001b[?25l  Downloading https://files.pythonhosted.org/packages/e1/87/294b718125085559b56453be87d90777863173470167e5f1d5de20b9eea3/ipython-6.2.1-py3-none-any.whl (745kB)\n",
            "\u001b[K     |████████████████████████████████| 747kB 38.9MB/s \n",
            "\u001b[?25hRequirement already satisfied: ipython-genutils==0.2.0 in /usr/local/lib/python3.6/dist-packages (from -r /content/Face-Recogination/FaceNet/requirements.txt (line 12)) (0.2.0)\n",
            "Collecting ipywidgets==7.1.1\n",
            "\u001b[?25l  Downloading https://files.pythonhosted.org/packages/f8/af/1c31a69aa596294abbc6fabec049ee80332e9afe9fa05a1566d2905202f6/ipywidgets-7.1.1-py2.py3-none-any.whl (68kB)\n",
            "\u001b[K     |████████████████████████████████| 71kB 8.4MB/s \n",
            "\u001b[?25hCollecting jedi==0.11.1\n",
            "\u001b[?25l  Downloading https://files.pythonhosted.org/packages/50/ca/d71f5a427601c98eadabfd73104cacbec8cc230e8416158decf61a48b0c6/jedi-0.11.1-py2.py3-none-any.whl (250kB)\n",
            "\u001b[K     |████████████████████████████████| 256kB 38.0MB/s \n",
            "\u001b[?25hCollecting Jinja2==2.10\n",
            "\u001b[?25l  Downloading https://files.pythonhosted.org/packages/7f/ff/ae64bacdfc95f27a016a7bed8e8686763ba4d277a78ca76f32659220a731/Jinja2-2.10-py2.py3-none-any.whl (126kB)\n",
            "\u001b[K     |████████████████████████████████| 133kB 36.6MB/s \n",
            "\u001b[?25hRequirement already satisfied: jsonschema==2.6.0 in /usr/local/lib/python3.6/dist-packages (from -r /content/Face-Recogination/FaceNet/requirements.txt (line 16)) (2.6.0)\n",
            "Requirement already satisfied: jupyter==1.0.0 in /usr/local/lib/python3.6/dist-packages (from -r /content/Face-Recogination/FaceNet/requirements.txt (line 17)) (1.0.0)\n",
            "Collecting jupyter-client==5.2.2\n",
            "\u001b[?25l  Downloading https://files.pythonhosted.org/packages/42/8a/5cca4d98fe28c4db6c2879b69ca5d106e0f4415aafda8bc4074deddbc3da/jupyter_client-5.2.2-py2.py3-none-any.whl (88kB)\n",
            "\u001b[K     |████████████████████████████████| 92kB 10.7MB/s \n",
            "\u001b[?25hRequirement already satisfied: jupyter-console==5.2.0 in /usr/local/lib/python3.6/dist-packages (from -r /content/Face-Recogination/FaceNet/requirements.txt (line 19)) (5.2.0)\n",
            "Collecting jupyter-core==4.4.0\n",
            "\u001b[?25l  Downloading https://files.pythonhosted.org/packages/1d/44/065d2d7bae7bebc06f1dd70d23c36da8c50c0f08b4236716743d706762a8/jupyter_core-4.4.0-py2.py3-none-any.whl (126kB)\n",
            "\u001b[K     |████████████████████████████████| 133kB 38.8MB/s \n",
            "\u001b[?25hCollecting Keras==2.1.3\n",
            "\u001b[?25l  Downloading https://files.pythonhosted.org/packages/08/ae/7f94a03cb3f74cdc8a0f5f86d1df5c1dd686acb9a9c2a421c64f8497358e/Keras-2.1.3-py2.py3-none-any.whl (319kB)\n",
            "\u001b[K     |████████████████████████████████| 327kB 42.7MB/s \n",
            "\u001b[?25hCollecting Markdown==2.6.11\n",
            "\u001b[?25l  Downloading https://files.pythonhosted.org/packages/6d/7d/488b90f470b96531a3f5788cf12a93332f543dbab13c423a5e7ce96a0493/Markdown-2.6.11-py2.py3-none-any.whl (78kB)\n",
            "\u001b[K     |████████████████████████████████| 81kB 9.5MB/s \n",
            "\u001b[?25hCollecting MarkupSafe==1.0\n",
            "  Downloading https://files.pythonhosted.org/packages/4d/de/32d741db316d8fdb7680822dd37001ef7a448255de9699ab4bfcbdf4172b/MarkupSafe-1.0.tar.gz\n",
            "\u001b[31mERROR: Command errored out with exit status 1: python setup.py egg_info Check the logs for full command output.\u001b[0m\n"
          ],
          "name": "stdout"
        }
      ]
    },
    {
      "cell_type": "code",
      "metadata": {
        "id": "-_cx_VrXGtUD"
      },
      "source": [
        "from model import create_model"
      ],
      "execution_count": 2,
      "outputs": []
    },
    {
      "cell_type": "code",
      "metadata": {
        "id": "I0pp9Wm7rObL"
      },
      "source": [
        "nn4_small2_pretrained = create_model()\n",
        "nn4_small2_pretrained.load_weights('/content/Face-Recogination/FaceNet/weights/nn4.small2.v1.h5')"
      ],
      "execution_count": 3,
      "outputs": []
    },
    {
      "cell_type": "code",
      "metadata": {
        "id": "xorrvfA0P2IB"
      },
      "source": [
        "import pickle\n",
        "\n",
        "pkl_file = open('/content/Face-Recogination/FaceNet/data/data.pkl', 'rb')\n",
        "data = pickle.load(pkl_file)\n",
        "# pckl files...\n",
        "seq = data['seq']             # Label key\n",
        "itr = data['itr']             # iterator\n",
        "embedded = data['embedded']   # 100 dims embedded vec\n",
        "label = data['label']         # encoded label\n",
        "images = data['images']       # raw image\n",
        "decode_label = { seq[k]:k for k in seq.keys()}\n"
      ],
      "execution_count": 109,
      "outputs": []
    },
    {
      "cell_type": "code",
      "metadata": {
        "id": "qCguOT-qyhRc"
      },
      "source": [
        "def _pairwise_distances(embeddings, squared=False):\n",
        "    \"\"\"Compute the 2D matrix of distances between all the embeddings.\n",
        "    Args:\n",
        "        embeddings: tensor of shape (batch_size, embed_dim)\n",
        "        squared: Boolean. If true, output is the pairwise squared euclidean distance matrix.\n",
        "                 If false, output is the pairwise euclidean distance matrix.\n",
        "    Returns:\n",
        "        pairwise_distances: tensor of shape (batch_size, batch_size)\n",
        "    \"\"\"\n",
        "    # Get the dot product between all embeddings\n",
        "    # shape (batch_size, batch_size)\n",
        "    dot_product = tf.matmul(embeddings, tf.transpose(embeddings))\n",
        "\n",
        "    # Get squared L2 norm for each embedding. We can just take the diagonal of `dot_product`.\n",
        "    # This also provides more numerical stability (the diagonal of the result will be exactly 0).\n",
        "    # shape (batch_size,)\n",
        "    square_norm = tf.linalg.diag_part(dot_product)\n",
        "\n",
        "    # Compute the pairwise distance matrix as we have:\n",
        "    # ||a - b||^2 = ||a||^2  - 2 <a, b> + ||b||^2\n",
        "    # shape (batch_size, batch_size)\n",
        "    distances = tf.expand_dims(square_norm, 1) - 2.0 * dot_product + tf.expand_dims(square_norm, 0)\n",
        "\n",
        "    # Because of computation errors, some distances might be negative so we put everything >= 0.0\n",
        "    distances = tf.maximum(distances, 0.0)\n",
        "\n",
        "    if not squared:\n",
        "        # Because the gradient of sqrt is infinite when distances == 0.0 (ex: on the diagonal)\n",
        "        # we need to add a small epsilon where distances == 0.0\n",
        "        mask = tf.dtypes.cast(tf.equal(distances, 0.0), tf.dtypes.float64)\n",
        "        distances = tf.dtypes.cast(distances,tf.dtypes.float64) + mask * tf.dtypes.cast(1e-16,tf.dtypes.float64)\n",
        "\n",
        "\n",
        "        distances = tf.sqrt(distances)\n",
        "\n",
        "        # Correct the epsilon added: set the distances on the mask to be exactly 0.0\n",
        "        distances = distances * (1.0 - mask)\n",
        "\n",
        "    return distances"
      ],
      "execution_count": 5,
      "outputs": []
    },
    {
      "cell_type": "markdown",
      "metadata": {
        "id": "NMKCQ8zkP2Ia"
      },
      "source": [
        "### CNN architecture and training\n",
        "\n",
        "The CNN architecture used here is a variant of the inception architecture [[2]](https://arxiv.org/abs/1409.4842). More precisely, it is a variant of the NN4 architecture described in [[1]](https://arxiv.org/abs/1503.03832) and identified as [nn4.small2](https://cmusatyalab.github.io/openface/models-and-accuracies/#model-definitions) model in the OpenFace project. This notebook uses a Keras implementation of that model whose definition was taken from the [Keras-OpenFace](https://github.com/iwantooxxoox/Keras-OpenFace) project. The architecture details aren't too important here, it's only useful to know that there is a fully connected layer with 128 hidden units followed by an L2 normalization layer on top of the convolutional base. These two top layers are referred to as the *embedding layer* from which the 128-dimensional embedding vectors can be obtained. The complete model is defined in [model.py](model.py) and a graphical overview is given in [model.png](model.png). A Keras version of the nn4.small2 model can be created with `create_model()`."
      ]
    },
    {
      "cell_type": "code",
      "metadata": {
        "id": "LsDdRj1eP2Ic"
      },
      "source": [
        "import tensorflow_addons as tfa\n",
        "nn4_small2= create_model()\n",
        "nn4_small2.load_weights('/content/Face-Recogination/FaceNet/weights/nn4.small2.v1.h5')"
      ],
      "execution_count": 6,
      "outputs": []
    },
    {
      "cell_type": "markdown",
      "metadata": {
        "id": "hWMayQlYP2Io"
      },
      "source": [
        "Model training aims to learn an embedding $f(x)$ of image $x$ such that the squared L2 distance between all faces of the same identity is small and the distance between a pair of faces from different identities is large. This can be achieved with a *triplet loss* $L$ that is minimized when the distance between an anchor image $x^a_i$ and a positive image $x^p_i$ (same identity) in embedding space is smaller than the distance between that anchor image and a negative image $x^n_i$ (different identity) by at least a margin $\\alpha$.\n",
        "\n",
        "$$L = \\sum^{m}_{i=1} \\large[ \\small {\\mid \\mid f(x_{i}^{a}) - f(x_{i}^{p})) \\mid \\mid_2^2} - {\\mid \\mid f(x_{i}^{a}) - f(x_{i}^{n})) \\mid \\mid_2^2} + \\alpha \\large ] \\small_+$$\n",
        "\n",
        "$[z]_+$ means $max(z,0)$ and $m$ is the number of triplets in the training set. The triplet loss in Keras is best implemented with a custom layer as the loss function doesn't follow the usual `loss(input, target)` pattern. This layer calls `self.add_loss` to install the triplet loss:"
      ]
    },
    {
      "cell_type": "code",
      "metadata": {
        "id": "zTogjcOcP2Iq"
      },
      "source": [
        "from keras import backend as K\n",
        "from keras.models import Model\n",
        "from keras.layers import Input, Layer\n",
        "\n",
        "# Input for anchor, positive and negative images\n",
        "in_a = Input(shape=(96, 96, 3))\n",
        "in_p = Input(shape=(96, 96, 3))\n",
        "in_n = Input(shape=(96, 96, 3))\n",
        "\n",
        "# Output for anchor, positive and negative embedding vectors\n",
        "# The nn4_small model instance is shared (Siamese network)\n",
        "emb_a = nn4_small2(in_a)\n",
        "emb_p = nn4_small2(in_p)\n",
        "emb_n = nn4_small2(in_n)\n",
        "\n",
        "class TripletLossLayer(Layer):\n",
        "    def __init__(self, alpha, **kwargs):\n",
        "        self.alpha = alpha\n",
        "        super(TripletLossLayer, self).__init__(**kwargs)\n",
        "    \n",
        "    def triplet_loss(self, inputs):\n",
        "        a, p, n = inputs\n",
        "        p_dist = K.sum(K.square(a-p), axis=-1)\n",
        "        n_dist = K.sum(K.square(a-n), axis=-1)\n",
        "        return K.sum(K.maximum(p_dist - n_dist + self.alpha, 0), axis=0)\n",
        "    \n",
        "    def call(self, inputs):\n",
        "        loss = self.triplet_loss(inputs)\n",
        "        self.add_loss(loss)\n",
        "        return loss\n",
        "\n",
        "# Layer that computes the triplet loss from anchor, positive and negative embedding vectors\n",
        "triplet_loss_layer = TripletLossLayer(alpha=0.2, name='triplet_loss_layer')([emb_a, emb_p, emb_n])\n",
        "\n",
        "# Model that can be trained with anchor, positive negative images\n",
        "nn4_small2_train = Model([in_a, in_p, in_n], triplet_loss_layer)"
      ],
      "execution_count": 9,
      "outputs": []
    },
    {
      "cell_type": "code",
      "metadata": {
        "id": "ma9I14OAUJFw"
      },
      "source": [
        "import tensorflow as tf\n",
        "import numpy as np"
      ],
      "execution_count": 14,
      "outputs": []
    },
    {
      "cell_type": "code",
      "metadata": {
        "id": "koVqyjEw-A-e",
        "outputId": "809e1cce-9b2e-443c-b938-000bca92e508",
        "colab": {
          "base_uri": "https://localhost:8080/"
        }
      },
      "source": [
        "np.array(negative).shape"
      ],
      "execution_count": 139,
      "outputs": [
        {
          "output_type": "execute_result",
          "data": {
            "text/plain": [
              "(19, 96, 96, 3)"
            ]
          },
          "metadata": {
            "tags": []
          },
          "execution_count": 139
        }
      ]
    },
    {
      "cell_type": "code",
      "metadata": {
        "id": "3teDyZBe-rjE",
        "outputId": "894aa47d-5a1e-4339-8d8c-9aa136ca70f1",
        "colab": {
          "base_uri": "https://localhost:8080/",
          "height": 214
        }
      },
      "source": [
        "train_dataset = tf.data.Dataset.from_tensor_slices((np.array(itr), np.array(label)))\n",
        "BATCH_SIZE = 20\n",
        "SHUFFLE_BUFFER_SIZE = 100\n",
        "\n",
        "train_dataset = train_dataset.shuffle(SHUFFLE_BUFFER_SIZE)\n",
        "train_dataset = train_dataset.batch(BATCH_SIZE)\n",
        "\n",
        "for x,y in train_dataset:\n",
        "\n",
        "    mask = x.numpy().reshape(BATCH_SIZE).astype('int')\n",
        "    emb = embedded[mask]\n",
        "    pic = images[mask]\n",
        "    lbls = label[mask]\n",
        "    enc_dis = _pairwise_distances(emb)\n",
        "    anchor = np.zeros((BATCH_SIZE, 96,96,3))\n",
        "    positive = np.zeros((BATCH_SIZE, 96,96,3))\n",
        "    negative = np.zeros((BATCH_SIZE, 96,96,3))\n",
        "    # print(y)\n",
        "    for idx in range(len(x)):\n",
        "      lbl = lbls[idx]\n",
        "      pos_mask = np.where((lbls==lbl))\n",
        "      slce_enc_dist = (enc_dis[:,idx].numpy().reshape(BATCH_SIZE,1))\n",
        "      # print(slce_enc_dist)\n",
        "      pos_masked_emb = slce_enc_dist[pos_mask]\n",
        "      # print('labels : ',lbls)\n",
        "      # print('pos masked encode dist : ',pos_masked_emb)\n",
        "      if len(pos_masked_emb)<2:\n",
        "        continue\n",
        "      else:\n",
        "        pos_emb = tf.math.reduce_max(pos_masked_emb, axis=0)\n",
        "        pos_idx = np.where(slce_enc_dist == pos_emb)[0]\n",
        "        # print('positive: ', pos_emb,pos_idx)\n",
        "        neg_mask = np.where((lbls!=lbl))\n",
        "        neg_masked_emb = slce_enc_dist[neg_mask]\n",
        "        # print('negmasked encode dist : ',neg_masked_emb)\n",
        "        neg_emb = tf.math.reduce_min(neg_masked_emb, axis=0)\n",
        "        neg_idx = np.where(slce_enc_dist == neg_emb)[0]\n",
        "        # print('negative: ', neg_emb,neg_idx)\n",
        "        # print(min(neg_masked_emb))\n",
        "           \n",
        "        plt.subplot(131)\n",
        "        plt.imshow(pic[idx])\n",
        "        plt.title('(Anchor)')\n",
        "\n",
        "        # Show positive \n",
        "        plt.subplot(132)\n",
        "        plt.imshow(pic[pos_idx][0])\n",
        "        plt.title('(Positive)')\n",
        "        # Show negative\n",
        "        plt.subplot(133)\n",
        "        plt.imshow(pic[neg_idx][0])\n",
        "        plt.title('(Negative)')\n",
        "\n",
        "        print('(Anchor) label: {}'.format(decode_label[lbls[idx][0]] ) )\n",
        "        print('(Positive) label: {}, Dist: {}'.format(decode_label[lbls[pos_idx][0][0]], \"%.2f\" % pos_emb))\n",
        "        print('(Negative) label: {}, Dist: {}'.format(decode_label[lbls[neg_idx][0][0]], \"%.2f\" %neg_emb))\n",
        "      break\n",
        "    break"
      ],
      "execution_count": 126,
      "outputs": [
        {
          "output_type": "stream",
          "text": [
            "(Anchor) label: Colin_Powell\n",
            "(Positive) label: Colin_Powell, Dist: 0.62\n",
            "(Negative) label: Tony_Blair, Dist: 0.84\n"
          ],
          "name": "stdout"
        },
        {
          "output_type": "display_data",
          "data": {
            "image/png": "[encoded data removed]",
            "text/plain": [
              "<Figure size 432x288 with 3 Axes>"
            ]
          },
          "metadata": {
            "tags": [],
            "needs_background": "light"
          }
        }
      ]
    },
    {
      "cell_type": "code",
      "metadata": {
        "id": "X-dvm1aQT269"
      },
      "source": [
        "train_dataset = tf.data.Dataset.from_tensor_slices((np.array(itr), np.array(label)))\n",
        "BATCH_SIZE = 20\n",
        "SHUFFLE_BUFFER_SIZE = 100\n",
        "\n",
        "train_dataset = train_dataset.shuffle(SHUFFLE_BUFFER_SIZE)\n",
        "train_dataset = train_dataset.batch(BATCH_SIZE)\n",
        "\n",
        "for x,y in train_dataset:\n",
        "\n",
        "    mask = x.numpy().reshape(BATCH_SIZE).astype('int')\n",
        "    emb = embedded[mask]\n",
        "    pic = images[mask]\n",
        "    lbls = label[mask]\n",
        "    enc_dis = _pairwise_distances(emb)\n",
        "    anchor = []\n",
        "    positive = []\n",
        "    negative = []\n",
        "    # print(y)\n",
        "    for idx in range(len(x)):\n",
        "      lbl = lbls[idx]\n",
        "      pos_mask = np.where((lbls==lbl))\n",
        "      slce_enc_dist = (enc_dis[:,idx].numpy().reshape(BATCH_SIZE,1))\n",
        "      # print(slce_enc_dist)\n",
        "      pos_masked_emb = slce_enc_dist[pos_mask]\n",
        "      # print('labels : ',lbls)\n",
        "      # print('pos masked encode dist : ',pos_masked_emb)\n",
        "      if len(pos_masked_emb)<2:\n",
        "        continue\n",
        "      else:\n",
        "        pos_emb = tf.math.reduce_max(pos_masked_emb, axis=0)\n",
        "        pos_idx = np.where(slce_enc_dist == pos_emb)[0]\n",
        "        # print('positive: ', pos_emb,pos_idx)\n",
        "        neg_mask = np.where((lbls!=lbl))\n",
        "        neg_masked_emb = slce_enc_dist[neg_mask]\n",
        "        # print('negmasked encode dist : ',neg_masked_emb)\n",
        "        neg_emb = tf.math.reduce_min(neg_masked_emb, axis=0)\n",
        "        neg_idx = np.where(slce_enc_dist == neg_emb)[0]\n",
        "        # print('negative: ', neg_emb,neg_idx)\n",
        "        # print(min(neg_masked_emb))\n",
        "        anchor.append(pic[idx])\n",
        "        positive.append(pic[pos_idx][0])\n",
        "        negative.append(pic[neg_idx][0])\n",
        "    yield [np.array(anchor) , np.array(positive), np.array(negative)], None\n",
        "    "
      ],
      "execution_count": 136,
      "outputs": []
    },
    {
      "cell_type": "markdown",
      "metadata": {
        "id": "RLk-_PJ1CRIC"
      },
      "source": [
        "## Triplet DataGenerator\n",
        "Generates semi-hard triplets in batches from dataset."
      ]
    },
    {
      "cell_type": "code",
      "metadata": {
        "id": "AVXZWufotMHB",
        "outputId": "f9d2e46c-2e15-4841-dc7f-22cd08c24f6c",
        "colab": {
          "base_uri": "https://localhost:8080/"
        }
      },
      "source": [
        "\n",
        "# triplet_generator() creates a generator that continuously returns \n",
        "# ([a_batch, p_batch, n_batch], None) tuples where a_batch, p_batch \n",
        "# and n_batch are batches of anchor, positive and negative RGB images \n",
        "# each having a shape of (batch_size, 96, 96, 3).\n",
        "def triplet_generator():\n",
        "    ''' Semi-hard online triplet generator.\n",
        "    :return: a batch of (anchor, positive, negative) triplets\n",
        "    '''\n",
        "    # embedded = np.array(nn4_small2.predict(images))\n",
        "    while True:  \n",
        "      \n",
        "        train_dataset = tf.data.Dataset.from_tensor_slices((np.array(itr), np.array(label)))\n",
        "        BATCH_SIZE = 20\n",
        "        SHUFFLE_BUFFER_SIZE = 100\n",
        "\n",
        "        train_dataset = train_dataset.shuffle(SHUFFLE_BUFFER_SIZE)\n",
        "        train_dataset = train_dataset.batch(BATCH_SIZE)\n",
        "\n",
        "        for x,y in train_dataset:\n",
        "\n",
        "            mask = x.numpy().reshape(BATCH_SIZE).astype('int')\n",
        "            emb = embedded[mask]\n",
        "            pic = images[mask]\n",
        "            lbls = label[mask]\n",
        "            enc_dis = _pairwise_distances(emb)\n",
        "            anchor = []\n",
        "            positive = []\n",
        "            negative = []\n",
        "            # print(y)\n",
        "            for idx in range(len(x)):\n",
        "              lbl = lbls[idx]\n",
        "              pos_mask = np.where((lbls==lbl))\n",
        "              slce_enc_dist = (enc_dis[:,idx].numpy().reshape(BATCH_SIZE,1))\n",
        "              # print(slce_enc_dist)\n",
        "              pos_masked_emb = slce_enc_dist[pos_mask]\n",
        "              # print('labels : ',lbls)\n",
        "              # print('pos masked encode dist : ',pos_masked_emb)\n",
        "              if len(pos_masked_emb)<2:\n",
        "                continue\n",
        "              else:\n",
        "                pos_emb = tf.math.reduce_max(pos_masked_emb, axis=0)\n",
        "                pos_idx = np.where(slce_enc_dist == pos_emb)[0]\n",
        "                # print('positive: ', pos_emb,pos_idx)\n",
        "                neg_mask = np.where((lbls!=lbl))\n",
        "                neg_masked_emb = slce_enc_dist[neg_mask]\n",
        "                # print('negmasked encode dist : ',neg_masked_emb)\n",
        "                neg_emb = tf.math.reduce_min(neg_masked_emb, axis=0)\n",
        "                neg_idx = np.where(slce_enc_dist == neg_emb)[0]\n",
        "                # print('negative: ', neg_emb,neg_idx)\n",
        "                # print(min(neg_masked_emb))\n",
        "                anchor.append(pic[idx])\n",
        "                positive.append(pic[pos_idx][0])\n",
        "                negative.append(pic[neg_idx][0])\n",
        "            yield [np.array(anchor) , np.array(positive), np.array(negative)], None\n",
        "    \n",
        "            # embedded = np.array(nn4_small2_train.predict(images))\n",
        "\n",
        "generator = triplet_generator()\n",
        "nn4_small2_train.compile(optimizer=tf.keras.optimizers.Adam(0.001), loss=tfa.losses.TripletSemiHardLoss())\n",
        "\n",
        "history = nn4_small2_train.fit_generator(generator, epochs=10, steps_per_epoch=10)"
      ],
      "execution_count": 140,
      "outputs": [
        {
          "output_type": "stream",
          "text": [
            "WARNING:tensorflow:From <ipython-input-140-ec5a24a98e04>:62: Model.fit_generator (from tensorflow.python.keras.engine.training) is deprecated and will be removed in a future version.\n",
            "Instructions for updating:\n",
            "Please use Model.fit, which supports generators.\n",
            "Epoch 1/10\n",
            "10/10 [==============================] - 7s 732ms/step - loss: 0.9305\n",
            "Epoch 2/10\n",
            "10/10 [==============================] - 4s 359ms/step - loss: 0.3492\n",
            "Epoch 3/10\n",
            "10/10 [==============================] - 2s 207ms/step - loss: 0.1728\n",
            "Epoch 4/10\n",
            "10/10 [==============================] - 2s 210ms/step - loss: 0.0000e+00\n",
            "Epoch 5/10\n",
            "10/10 [==============================] - 2s 215ms/step - loss: 0.0906\n",
            "Epoch 6/10\n",
            "10/10 [==============================] - 2s 203ms/step - loss: 0.0881\n",
            "Epoch 7/10\n",
            "10/10 [==============================] - 2s 210ms/step - loss: 0.0676\n",
            "Epoch 8/10\n",
            "10/10 [==============================] - 2s 206ms/step - loss: 0.1147\n",
            "Epoch 9/10\n",
            "10/10 [==============================] - 2s 207ms/step - loss: 0.1197\n",
            "Epoch 10/10\n",
            "10/10 [==============================] - 2s 209ms/step - loss: 0.0000e+00\n"
          ],
          "name": "stdout"
        }
      ]
    },
    {
      "cell_type": "code",
      "metadata": {
        "id": "2W0iTzveJ__8",
        "outputId": "7475de3d-b77b-4f2d-ca4a-4d107d43a581",
        "colab": {
          "base_uri": "https://localhost:8080/",
          "height": 35
        }
      },
      "source": [
        "decode_label[label[0][0]]"
      ],
      "execution_count": 152,
      "outputs": [
        {
          "output_type": "execute_result",
          "data": {
            "application/vnd.google.colaboratory.intrinsic+json": {
              "type": "string"
            },
            "text/plain": [
              "'Ariel_Sharon'"
            ]
          },
          "metadata": {
            "tags": []
          },
          "execution_count": 152
        }
      ]
    },
    {
      "cell_type": "code",
      "metadata": {
        "id": "J962NhEyGhvR"
      },
      "source": [
        "results = nn4_small2.predict(images)\n",
        "i"
      ],
      "execution_count": 145,
      "outputs": []
    },
    {
      "cell_type": "code",
      "metadata": {
        "id": "JHW7MDkK2vcd",
        "outputId": "e260b742-637b-4a7f-e06f-24ff1b7a06b1",
        "colab": {
          "base_uri": "https://localhost:8080/",
          "height": 17
        }
      },
      "source": [
        "import io\n",
        "# Save test embeddings for visualization in projector\n",
        "np.savetxt(\"vecs.tsv\", results, delimiter='\\t')\n",
        "\n",
        "out_m = io.open('meta.tsv', 'w', encoding='utf-8')\n",
        "for lbl in label:\n",
        "    [out_m.write(str(decode_label[x]) + \"\\n\") for x in lbl]\n",
        "out_m.close()\n",
        "\n",
        "try:\n",
        "    from google.colab import files\n",
        "    files.download('vecs.tsv')\n",
        "    files.download('meta.tsv')\n",
        "except:\n",
        "    pass"
      ],
      "execution_count": 154,
      "outputs": [
        {
          "output_type": "display_data",
          "data": {
            "application/javascript": [
              "\n",
              "    async function download(id, filename, size) {\n",
              "      if (!google.colab.kernel.accessAllowed) {\n",
              "        return;\n",
              "      }\n",
              "      const div = document.createElement('div');\n",
              "      const label = document.createElement('label');\n",
              "      label.textContent = `Downloading \"${filename}\": `;\n",
              "      div.appendChild(label);\n",
              "      const progress = document.createElement('progress');\n",
              "      progress.max = size;\n",
              "      div.appendChild(progress);\n",
              "      document.body.appendChild(div);\n",
              "\n",
              "      const buffers = [];\n",
              "      let downloaded = 0;\n",
              "\n",
              "      const channel = await google.colab.kernel.comms.open(id);\n",
              "      // Send a message to notify the kernel that we're ready.\n",
              "      channel.send({})\n",
              "\n",
              "      for await (const message of channel.messages) {\n",
              "        // Send a message to notify the kernel that we're ready.\n",
              "        channel.send({})\n",
              "        if (message.buffers) {\n",
              "          for (const buffer of message.buffers) {\n",
              "            buffers.push(buffer);\n",
              "            downloaded += buffer.byteLength;\n",
              "            progress.value = downloaded;\n",
              "          }\n",
              "        }\n",
              "      }\n",
              "      const blob = new Blob(buffers, {type: 'application/binary'});\n",
              "      const a = document.createElement('a');\n",
              "      a.href = window.URL.createObjectURL(blob);\n",
              "      a.download = filename;\n",
              "      div.appendChild(a);\n",
              "      a.click();\n",
              "      div.remove();\n",
              "    }\n",
              "  "
            ],
            "text/plain": [
              "<IPython.core.display.Javascript object>"
            ]
          },
          "metadata": {
            "tags": []
          }
        },
        {
          "output_type": "display_data",
          "data": {
            "application/javascript": [
              "download(\"download_368dbf6b-2f9d-41df-bae6-efd8a932ca03\", \"vecs.tsv\", 326600)"
            ],
            "text/plain": [
              "<IPython.core.display.Javascript object>"
            ]
          },
          "metadata": {
            "tags": []
          }
        },
        {
          "output_type": "display_data",
          "data": {
            "application/javascript": [
              "\n",
              "    async function download(id, filename, size) {\n",
              "      if (!google.colab.kernel.accessAllowed) {\n",
              "        return;\n",
              "      }\n",
              "      const div = document.createElement('div');\n",
              "      const label = document.createElement('label');\n",
              "      label.textContent = `Downloading \"${filename}\": `;\n",
              "      div.appendChild(label);\n",
              "      const progress = document.createElement('progress');\n",
              "      progress.max = size;\n",
              "      div.appendChild(progress);\n",
              "      document.body.appendChild(div);\n",
              "\n",
              "      const buffers = [];\n",
              "      let downloaded = 0;\n",
              "\n",
              "      const channel = await google.colab.kernel.comms.open(id);\n",
              "      // Send a message to notify the kernel that we're ready.\n",
              "      channel.send({})\n",
              "\n",
              "      for await (const message of channel.messages) {\n",
              "        // Send a message to notify the kernel that we're ready.\n",
              "        channel.send({})\n",
              "        if (message.buffers) {\n",
              "          for (const buffer of message.buffers) {\n",
              "            buffers.push(buffer);\n",
              "            downloaded += buffer.byteLength;\n",
              "            progress.value = downloaded;\n",
              "          }\n",
              "        }\n",
              "      }\n",
              "      const blob = new Blob(buffers, {type: 'application/binary'});\n",
              "      const a = document.createElement('a');\n",
              "      a.href = window.URL.createObjectURL(blob);\n",
              "      a.download = filename;\n",
              "      div.appendChild(a);\n",
              "      a.click();\n",
              "      div.remove();\n",
              "    }\n",
              "  "
            ],
            "text/plain": [
              "<IPython.core.display.Javascript object>"
            ]
          },
          "metadata": {
            "tags": []
          }
        },
        {
          "output_type": "display_data",
          "data": {
            "application/javascript": [
              "download(\"download_3bbbfd41-9b20-4ec4-8a4a-db25e183e93e\", \"meta.tsv\", 1490)"
            ],
            "text/plain": [
              "<IPython.core.display.Javascript object>"
            ]
          },
          "metadata": {
            "tags": []
          }
        }
      ]
    },
    {
      "cell_type": "code",
      "metadata": {
        "id": "vIIaJqg0FfeW"
      },
      "source": [
        ""
      ],
      "execution_count": null,
      "outputs": []
    }
  ]
}