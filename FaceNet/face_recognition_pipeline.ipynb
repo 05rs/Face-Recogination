{
  "nbformat": 4,
  "nbformat_minor": 0,
  "metadata": {
    "accelerator": "GPU",
    "colab": {
      "name": "face-rec.ipynb",
      "provenance": [],
      "collapsed_sections": []
    },
    "kernelspec": {
      "display_name": "Python 3",
      "language": "python",
      "name": "python3"
    },
    "language_info": {
      "codemirror_mode": {
        "name": "ipython",
        "version": 3
      },
      "file_extension": ".py",
      "mimetype": "text/x-python",
      "name": "python",
      "nbconvert_exporter": "python",
      "pygments_lexer": "ipython3",
      "version": "3.8.3"
    }
  },
  "cells": [
    {
      "cell_type": "markdown",
      "metadata": {
        "id": "Fwh4XMLlP2HI"
      },
      "source": [
        "## Deep face recognition \n",
        "\n",
        "Face recognition identifies persons on face images or video frames. In a nutshell, a face recognition system extracts features from an input face image and compares them to the features of labeled faces in a database. Comparison is based on a feature similarity metric and the label of the most similar database entry is used to label the input image. If the similarity value is below a certain threshold the input image is labeled as *unknown*. Comparing two face images to determine if they show the same person is known as face verification.\n",
        "\n",
        "This notebook uses a deep convolutional neural network (CNN) to extract features from input images. It follows the approach described in [[1]](https://arxiv.org/abs/1503.03832) with modifications inspired by the [OpenFace](http://cmusatyalab.github.io/openface/) project. [Keras](https://keras.io/) is used for implementing the CNN, [Dlib](http://dlib.net/) and [OpenCV](https://opencv.org/) for aligning faces on input images. Face recognition performance is evaluated on a small subset of the [LFW](http://vis-www.cs.umass.edu/lfw/) dataset which you can replace with your own custom dataset e.g. with images of your family and friends if you want to further experiment with this notebook. After an overview of the CNN architecure and how the model can be trained, it is demonstrated how to:\n",
        "\n",
        "- Detect, transform, and crop faces on input images. This ensures that faces are aligned before feeding them into the CNN. This preprocessing step is very important for the performance of the neural network.\n",
        "- Use the CNN to extract 128-dimensional representations, or *embeddings*, of faces from the aligned input images. In embedding space, Euclidean distance directly corresponds to a measure of face similarity. \n",
        "- Compare input embedding vectors to labeled embedding vectors in a database. Here, a support vector machine (SVM) and a KNN classifier, trained on labeled embedding vectors, play the role of a database. Face recognition in this context means using these classifiers to predict the labels i.e. identities of new inputs.\n",
        "\n",
        "### Environment setup\n",
        "\n",
        "For running this notebook, create and activate a new [virtual environment](https://docs.python.org/3/tutorial/venv.html) and install the packages listed in [requirements.txt](requirements.txt) with `pip install -r requirements.txt`. Furthermore, you'll need a local copy of Dlib's face landmarks data file for running face alignment:"
      ]
    },
    {
      "cell_type": "code",
      "metadata": {
        "id": "8x17rEzmh06V",
        "outputId": "9fe7ef73-e574-432a-9637-f6bc189b2b70",
        "colab": {
          "base_uri": "https://localhost:8080/"
        }
      },
      "source": [
        "!git clone https://github.com/05rs/Face-Recogination.git\n",
        "import sys\n",
        "sys.path.append('./Face-Recogination/FaceNet')\n",
        "# !pip install -r '/content/Face-Recogination/FaceNet/requirements.txt'\n",
        "import align\n",
        "import data\n",
        "import utils\n",
        "import model\n",
        "import matplotlib.pyplot as plt\n"
      ],
      "execution_count": 1,
      "outputs": [
        {
          "output_type": "stream",
          "text": [
            "Cloning into 'Face-Recogination'...\n",
            "remote: Enumerating objects: 72, done.\u001b[K\n",
            "remote: Counting objects: 100% (72/72), done.\u001b[K\n",
            "remote: Compressing objects: 100% (63/63), done.\u001b[K\n",
            "remote: Total 479 (delta 23), reused 46 (delta 6), pack-reused 407\u001b[K\n",
            "Receiving objects: 100% (479/479), 152.04 MiB | 6.70 MiB/s, done.\n",
            "Resolving deltas: 100% (30/30), done.\n",
            "Checking out files: 100% (626/626), done.\n"
          ],
          "name": "stdout"
        }
      ]
    },
    {
      "cell_type": "code",
      "metadata": {
        "id": "xorrvfA0P2IB"
      },
      "source": [
        "import pickle\n",
        "\n",
        "pkl_file = open('/content/Face-Recogination/FaceNet/data/data.pkl', 'rb')\n",
        "data = pickle.load(pkl_file)\n",
        "# pckl files...\n",
        "seq = data['seq']             # Label key\n",
        "itr = data['itr']             # iterator\n",
        "embedded = data['embedded']   # 100 dims embedded vec\n",
        "label = data['label']         # encoded label\n",
        "images = data['images']       # raw image\n",
        "decode_label = { seq[k]:k for k in seq.keys()}\n"
      ],
      "execution_count": 3,
      "outputs": []
    },
    {
      "cell_type": "code",
      "metadata": {
        "id": "qCguOT-qyhRc"
      },
      "source": [
        "def _pairwise_distances(embeddings, squared=True):\n",
        "    \"\"\"Compute the 2D matrix of distances between all the embeddings.\n",
        "    Args:\n",
        "        embeddings: tensor of shape (batch_size, embed_dim)\n",
        "        squared: Boolean. If true, output is the pairwise squared euclidean distance matrix.\n",
        "                 If false, output is the pairwise euclidean distance matrix.\n",
        "    Returns:\n",
        "        pairwise_distances: tensor of shape (batch_size, batch_size)\n",
        "    \"\"\"\n",
        "    # Get the dot product between all embeddings\n",
        "    # shape (batch_size, batch_size)\n",
        "    dot_product = tf.matmul(embeddings, tf.transpose(embeddings))\n",
        "\n",
        "    # Get squared L2 norm for each embedding. We can just take the diagonal of `dot_product`.\n",
        "    # This also provides more numerical stability (the diagonal of the result will be exactly 0).\n",
        "    # shape (batch_size,)\n",
        "    square_norm = tf.linalg.diag_part(dot_product)\n",
        "\n",
        "    # Compute the pairwise distance matrix as we have:\n",
        "    # ||a - b||^2 = ||a||^2  - 2 <a, b> + ||b||^2\n",
        "    # shape (batch_size, batch_size)\n",
        "    distances = tf.expand_dims(square_norm, 1) - 2.0 * dot_product + tf.expand_dims(square_norm, 0)\n",
        "\n",
        "    # Because of computation errors, some distances might be negative so we put everything >= 0.0\n",
        "    distances = tf.maximum(distances, 0.0)\n",
        "\n",
        "    if not squared:\n",
        "        # Because the gradient of sqrt is infinite when distances == 0.0 (ex: on the diagonal)\n",
        "        # we need to add a small epsilon where distances == 0.0\n",
        "        mask = tf.dtypes.cast(tf.equal(distances, 0.0), tf.dtypes.float64)\n",
        "        distances = tf.dtypes.cast(distances,tf.dtypes.float64) + mask * tf.dtypes.cast(1e-16,tf.dtypes.float64)\n",
        "\n",
        "\n",
        "        distances = tf.sqrt(distances)\n",
        "\n",
        "        # Correct the epsilon added: set the distances on the mask to be exactly 0.0\n",
        "        distances = distances * (1.0 - mask)\n",
        "\n",
        "    return distances"
      ],
      "execution_count": 4,
      "outputs": []
    },
    {
      "cell_type": "markdown",
      "metadata": {
        "id": "NMKCQ8zkP2Ia"
      },
      "source": [
        "### CNN architecture and training\n",
        "\n",
        "The CNN architecture used here is a variant of the inception architecture [[2]](https://arxiv.org/abs/1409.4842). More precisely, it is a variant of the NN4 architecture described in [[1]](https://arxiv.org/abs/1503.03832) and identified as [nn4.small2](https://cmusatyalab.github.io/openface/models-and-accuracies/#model-definitions) model in the OpenFace project. This notebook uses a Keras implementation of that model whose definition was taken from the [Keras-OpenFace](https://github.com/iwantooxxoox/Keras-OpenFace) project. The architecture details aren't too important here, it's only useful to know that there is a fully connected layer with 128 hidden units followed by an L2 normalization layer on top of the convolutional base. These two top layers are referred to as the *embedding layer* from which the 128-dimensional embedding vectors can be obtained. The complete model is defined in [model.py](model.py) and a graphical overview is given in [model.png](model.png). A Keras version of the nn4.small2 model can be created with `create_model()`."
      ]
    },
    {
      "cell_type": "code",
      "metadata": {
        "id": "LsDdRj1eP2Ic"
      },
      "source": [
        "import tensorflow_addons as tfa\n",
        "nn4_small2= create_model()\n",
        "nn4_small2.load_weights('/content/Face-Recogination/FaceNet/weights/nn4.small2.v1.h5')"
      ],
      "execution_count": 5,
      "outputs": []
    },
    {
      "cell_type": "markdown",
      "metadata": {
        "id": "hWMayQlYP2Io"
      },
      "source": [
        "Model training aims to learn an embedding $f(x)$ of image $x$ such that the squared L2 distance between all faces of the same identity is small and the distance between a pair of faces from different identities is large. This can be achieved with a *triplet loss* $L$ that is minimized when the distance between an anchor image $x^a_i$ and a positive image $x^p_i$ (same identity) in embedding space is smaller than the distance between that anchor image and a negative image $x^n_i$ (different identity) by at least a margin $\\alpha$.\n",
        "\n",
        "$$L = \\sum^{m}_{i=1} \\large[ \\small {\\mid \\mid f(x_{i}^{a}) - f(x_{i}^{p})) \\mid \\mid_2^2} - {\\mid \\mid f(x_{i}^{a}) - f(x_{i}^{n})) \\mid \\mid_2^2} + \\alpha \\large ] \\small_+$$\n",
        "\n",
        "$[z]_+$ means $max(z,0)$ and $m$ is the number of triplets in the training set. The triplet loss in Keras is best implemented with a custom layer as the loss function doesn't follow the usual `loss(input, target)` pattern. This layer calls `self.add_loss` to install the triplet loss:"
      ]
    },
    {
      "cell_type": "code",
      "metadata": {
        "id": "zTogjcOcP2Iq"
      },
      "source": [
        "from keras import backend as K\n",
        "from keras.models import Model\n",
        "from keras.layers import Input, Layer\n",
        "\n",
        "# Input for anchor, positive and negative images\n",
        "in_a = Input(shape=(96, 96, 3))\n",
        "in_p = Input(shape=(96, 96, 3))\n",
        "in_n = Input(shape=(96, 96, 3))\n",
        "\n",
        "# Output for anchor, positive and negative embedding vectors\n",
        "# The nn4_small model instance is shared (Siamese network)\n",
        "emb_a = nn4_small2(in_a)\n",
        "emb_p = nn4_small2(in_p)\n",
        "emb_n = nn4_small2(in_n)\n",
        "\n",
        "class TripletLossLayer(Layer):\n",
        "    def __init__(self, alpha, **kwargs):\n",
        "        self.alpha = alpha\n",
        "        super(TripletLossLayer, self).__init__(**kwargs)\n",
        "    \n",
        "    def triplet_loss(self, inputs):\n",
        "        a, p, n = inputs\n",
        "        p_dist = K.sum(K.square(a-p), axis=-1)\n",
        "        n_dist = K.sum(K.square(a-n), axis=-1)\n",
        "        return K.sum(K.maximum(p_dist - n_dist + self.alpha, 0), axis=0)\n",
        "    \n",
        "    def call(self, inputs):\n",
        "        loss = self.triplet_loss(inputs)\n",
        "        self.add_loss(loss)\n",
        "        return loss\n",
        "\n",
        "# Layer that computes the triplet loss from anchor, positive and negative embedding vectors\n",
        "triplet_loss_layer = TripletLossLayer(alpha=0.2, name='triplet_loss_layer')([emb_a, emb_p, emb_n])\n",
        "\n",
        "# Model that can be trained with anchor, positive negative images\n",
        "nn4_small2_train = Model([in_a, in_p, in_n], triplet_loss_layer)"
      ],
      "execution_count": 6,
      "outputs": []
    },
    {
      "cell_type": "code",
      "metadata": {
        "id": "ma9I14OAUJFw"
      },
      "source": [
        "import tensorflow as tf\n",
        "import numpy as np"
      ],
      "execution_count": 7,
      "outputs": []
    },
    {
      "cell_type": "code",
      "metadata": {
        "id": "3teDyZBe-rjE",
        "outputId": "746d6d8c-c579-4486-f919-a6e197cd4efb",
        "colab": {
          "base_uri": "https://localhost:8080/",
          "height": 214
        }
      },
      "source": [
        "train_dataset = tf.data.Dataset.from_tensor_slices((np.array(itr), np.array(label)))\n",
        "BATCH_SIZE = 20\n",
        "SHUFFLE_BUFFER_SIZE = 100\n",
        "\n",
        "train_dataset = train_dataset.shuffle(SHUFFLE_BUFFER_SIZE)\n",
        "train_dataset = train_dataset.batch(BATCH_SIZE)\n",
        "\n",
        "for x,y in train_dataset:\n",
        "\n",
        "    mask = x.numpy().reshape(BATCH_SIZE).astype('int')\n",
        "    emb = embedded[mask]\n",
        "    pic = images[mask]\n",
        "    lbls = label[mask]\n",
        "    enc_dis = _pairwise_distances(emb)\n",
        "    anchor = np.zeros((BATCH_SIZE, 96,96,3))\n",
        "    positive = np.zeros((BATCH_SIZE, 96,96,3))\n",
        "    negative = np.zeros((BATCH_SIZE, 96,96,3))\n",
        "    # print(y)\n",
        "    for idx in range(len(x)):\n",
        "      lbl = lbls[idx]\n",
        "      pos_mask = np.where((lbls==lbl))\n",
        "      slce_enc_dist = (enc_dis[:,idx].numpy().reshape(BATCH_SIZE,1))\n",
        "      # print(slce_enc_dist)\n",
        "      pos_masked_emb = slce_enc_dist[pos_mask]\n",
        "      # print('labels : ',lbls)\n",
        "      # print('pos masked encode dist : ',pos_masked_emb)\n",
        "      if len(pos_masked_emb)<2:\n",
        "        continue\n",
        "      else:\n",
        "        pos_emb = tf.math.reduce_max(pos_masked_emb, axis=0)\n",
        "        pos_idx = np.where(slce_enc_dist == pos_emb)[0]\n",
        "        # print('positive: ', pos_emb,pos_idx)\n",
        "        neg_mask = np.where((lbls!=lbl))\n",
        "        neg_masked_emb = slce_enc_dist[neg_mask]\n",
        "        # print('negmasked encode dist : ',neg_masked_emb)\n",
        "        neg_emb = tf.math.reduce_min(neg_masked_emb, axis=0)\n",
        "        neg_idx = np.where(slce_enc_dist == neg_emb)[0]\n",
        "        # print('negative: ', neg_emb,neg_idx)\n",
        "        # print(min(neg_masked_emb))\n",
        "           \n",
        "        plt.subplot(131)\n",
        "        plt.imshow(pic[idx])\n",
        "        plt.title('(Anchor)')\n",
        "\n",
        "        # Show positive \n",
        "        plt.subplot(132)\n",
        "        plt.imshow(pic[pos_idx][0])\n",
        "        plt.title('(Positive)')\n",
        "        # Show negative\n",
        "        plt.subplot(133)\n",
        "        plt.imshow(pic[neg_idx][0])\n",
        "        plt.title('(Negative)')\n",
        "\n",
        "        print('(Anchor) label: {}'.format(decode_label[lbls[idx][0]] ) )\n",
        "        print('(Positive) label: {}, Dist: {}'.format(decode_label[lbls[pos_idx][0][0]], \"%.2f\" % pos_emb))\n",
        "        print('(Negative) label: {}, Dist: {}'.format(decode_label[lbls[neg_idx][0][0]], \"%.2f\" %neg_emb))\n",
        "      break\n",
        "    break"
      ],
      "execution_count": 8,
      "outputs": [
        {
          "output_type": "stream",
          "text": [
            "(Anchor) label: Gerhard_Schroeder\n",
            "(Positive) label: Gerhard_Schroeder, Dist: 0.53\n",
            "(Negative) label: Jacques_Chirac, Dist: 0.57\n"
          ],
          "name": "stdout"
        },
        {
          "output_type": "display_data",
          "data": {
            "image/png": "[encoded data removed]",
            "text/plain": [
              "<Figure size 432x288 with 3 Axes>"
            ]
          },
          "metadata": {
            "tags": [],
            "needs_background": "light"
          }
        }
      ]
    },
    {
      "cell_type": "markdown",
      "metadata": {
        "id": "RLk-_PJ1CRIC"
      },
      "source": [
        "## Triplet DataGenerator\n",
        "Generates semi-hard triplets in batches from dataset."
      ]
    },
    {
      "cell_type": "code",
      "metadata": {
        "id": "AVXZWufotMHB",
        "outputId": "347936e5-bfb7-42d9-d5c8-23695793e96a",
        "colab": {
          "base_uri": "https://localhost:8080/"
        }
      },
      "source": [
        "# triplet_generator() creates a generator that continuously returns \n",
        "# ([a_batch, p_batch, n_batch], None) tuples where a_batch, p_batch \n",
        "# and n_batch are batches of anchor, positive and negative RGB images \n",
        "# each having a shape of (batch_size, 96, 96, 3).\n",
        "def triplet_generator():\n",
        "    ''' Semi-hard online triplet generator.\n",
        "    :return: a batch of (anchor, positive, negative) triplets\n",
        "    '''\n",
        "    # embedded = np.array(nn4_small2.predict(images))\n",
        "    while True:  \n",
        "      \n",
        "        train_dataset = tf.data.Dataset.from_tensor_slices((np.array(itr), np.array(label)))\n",
        "        BATCH_SIZE = 100\n",
        "        SHUFFLE_BUFFER_SIZE = 100\n",
        "\n",
        "        train_dataset = train_dataset.shuffle(SHUFFLE_BUFFER_SIZE)\n",
        "        train_dataset = train_dataset.batch(BATCH_SIZE)\n",
        "\n",
        "        for x,y in train_dataset:\n",
        "\n",
        "            mask = x.numpy().reshape(BATCH_SIZE).astype('int')\n",
        "            emb = embedded[mask]\n",
        "            pic = images[mask]\n",
        "            lbls = label[mask]\n",
        "            enc_dis = _pairwise_distances(emb)\n",
        "            anchor = []\n",
        "            positive = []\n",
        "            negative = []\n",
        "            # print(y)\n",
        "            for idx in range(len(x)):\n",
        "              lbl = lbls[idx]\n",
        "              pos_mask = np.where((lbls==lbl))\n",
        "              slce_enc_dist = (enc_dis[:,idx].numpy().reshape(BATCH_SIZE,1))\n",
        "              # print(slce_enc_dist)\n",
        "              pos_masked_emb = slce_enc_dist[pos_mask]\n",
        "              # print('labels : ',lbls)\n",
        "              # print('pos masked encode dist : ',pos_masked_emb)\n",
        "              if len(pos_masked_emb)<2:\n",
        "                continue\n",
        "              else:\n",
        "                pos_emb = tf.math.reduce_max(pos_masked_emb, axis=0)\n",
        "                pos_idx = np.where(slce_enc_dist == pos_emb)[0]\n",
        "                # print('positive: ', pos_emb,pos_idx)\n",
        "                neg_mask = np.where((lbls!=lbl))\n",
        "                neg_masked_emb = slce_enc_dist[neg_mask]\n",
        "                # print('negmasked encode dist : ',neg_masked_emb)\n",
        "                neg_emb = tf.math.reduce_min(neg_masked_emb, axis=0)\n",
        "                neg_idx = np.where(slce_enc_dist == neg_emb)[0]\n",
        "                # print('negative: ', neg_emb,neg_idx)\n",
        "                # print(min(neg_masked_emb))\n",
        "                anchor.append(pic[idx])\n",
        "                positive.append(pic[pos_idx][0])\n",
        "                negative.append(pic[neg_idx][0])\n",
        "            yield [np.array(anchor) , np.array(positive), np.array(negative)], None\n",
        "    \n",
        "            # embedded = np.array(nn4_small2_train.predict(images))\n",
        "\n",
        "generator = triplet_generator()\n",
        "nn4_small2_train.compile(optimizer=tf.keras.optimizers.Adam(0.001), loss=tfa.losses.TripletSemiHardLoss())\n",
        "\n",
        "history = nn4_small2_train.fit(generator, epochs=8, steps_per_epoch=50)"
      ],
      "execution_count": 10,
      "outputs": [
        {
          "output_type": "stream",
          "text": [
            "Epoch 1/8\n",
            "50/50 [==============================] - 52s 1s/step - loss: 0.1411\n",
            "Epoch 2/8\n",
            "50/50 [==============================] - 52s 1s/step - loss: 0.0000e+00\n",
            "Epoch 3/8\n",
            "50/50 [==============================] - 53s 1s/step - loss: 0.0000e+00\n",
            "Epoch 4/8\n",
            "50/50 [==============================] - 53s 1s/step - loss: 0.0000e+00\n",
            "Epoch 5/8\n",
            "50/50 [==============================] - 52s 1s/step - loss: 0.0000e+00\n",
            "Epoch 6/8\n",
            "50/50 [==============================] - 52s 1s/step - loss: 0.0000e+00\n",
            "Epoch 7/8\n",
            "50/50 [==============================] - 52s 1s/step - loss: 0.0000e+00\n",
            "Epoch 8/8\n",
            "50/50 [==============================] - 52s 1s/step - loss: 0.0000e+00\n"
          ],
          "name": "stdout"
        }
      ]
    },
    {
      "cell_type": "code",
      "metadata": {
        "id": "JHW7MDkK2vcd",
        "outputId": "e260b742-637b-4a7f-e06f-24ff1b7a06b1",
        "colab": {
          "base_uri": "https://localhost:8080/",
          "height": 17
        }
      },
      "source": [
        "results = nn4_small2.predict(images)\n",
        "\n",
        "import io\n",
        "# Save test embeddings for visualization in projector\n",
        "np.savetxt(\"vecs.tsv\", results, delimiter='\\t')\n",
        "\n",
        "out_m = io.open('meta.tsv', 'w', encoding='utf-8')\n",
        "for lbl in label:\n",
        "    [out_m.write(str(decode_label[x]) + \"\\n\") for x in lbl]\n",
        "out_m.close()\n",
        "\n",
        "try:\n",
        "    from google.colab import files\n",
        "    files.download('vecs.tsv')\n",
        "    files.download('meta.tsv')\n",
        "except:\n",
        "    pass"
      ],
      "execution_count": null,
      "outputs": [
        {
          "output_type": "display_data",
          "data": {
            "application/javascript": [
              "\n",
              "    async function download(id, filename, size) {\n",
              "      if (!google.colab.kernel.accessAllowed) {\n",
              "        return;\n",
              "      }\n",
              "      const div = document.createElement('div');\n",
              "      const label = document.createElement('label');\n",
              "      label.textContent = `Downloading \"${filename}\": `;\n",
              "      div.appendChild(label);\n",
              "      const progress = document.createElement('progress');\n",
              "      progress.max = size;\n",
              "      div.appendChild(progress);\n",
              "      document.body.appendChild(div);\n",
              "\n",
              "      const buffers = [];\n",
              "      let downloaded = 0;\n",
              "\n",
              "      const channel = await google.colab.kernel.comms.open(id);\n",
              "      // Send a message to notify the kernel that we're ready.\n",
              "      channel.send({})\n",
              "\n",
              "      for await (const message of channel.messages) {\n",
              "        // Send a message to notify the kernel that we're ready.\n",
              "        channel.send({})\n",
              "        if (message.buffers) {\n",
              "          for (const buffer of message.buffers) {\n",
              "            buffers.push(buffer);\n",
              "            downloaded += buffer.byteLength;\n",
              "            progress.value = downloaded;\n",
              "          }\n",
              "        }\n",
              "      }\n",
              "      const blob = new Blob(buffers, {type: 'application/binary'});\n",
              "      const a = document.createElement('a');\n",
              "      a.href = window.URL.createObjectURL(blob);\n",
              "      a.download = filename;\n",
              "      div.appendChild(a);\n",
              "      a.click();\n",
              "      div.remove();\n",
              "    }\n",
              "  "
            ],
            "text/plain": [
              "<IPython.core.display.Javascript object>"
            ]
          },
          "metadata": {
            "tags": []
          }
        },
        {
          "output_type": "display_data",
          "data": {
            "application/javascript": [
              "download(\"download_368dbf6b-2f9d-41df-bae6-efd8a932ca03\", \"vecs.tsv\", 326600)"
            ],
            "text/plain": [
              "<IPython.core.display.Javascript object>"
            ]
          },
          "metadata": {
            "tags": []
          }
        },
        {
          "output_type": "display_data",
          "data": {
            "application/javascript": [
              "\n",
              "    async function download(id, filename, size) {\n",
              "      if (!google.colab.kernel.accessAllowed) {\n",
              "        return;\n",
              "      }\n",
              "      const div = document.createElement('div');\n",
              "      const label = document.createElement('label');\n",
              "      label.textContent = `Downloading \"${filename}\": `;\n",
              "      div.appendChild(label);\n",
              "      const progress = document.createElement('progress');\n",
              "      progress.max = size;\n",
              "      div.appendChild(progress);\n",
              "      document.body.appendChild(div);\n",
              "\n",
              "      const buffers = [];\n",
              "      let downloaded = 0;\n",
              "\n",
              "      const channel = await google.colab.kernel.comms.open(id);\n",
              "      // Send a message to notify the kernel that we're ready.\n",
              "      channel.send({})\n",
              "\n",
              "      for await (const message of channel.messages) {\n",
              "        // Send a message to notify the kernel that we're ready.\n",
              "        channel.send({})\n",
              "        if (message.buffers) {\n",
              "          for (const buffer of message.buffers) {\n",
              "            buffers.push(buffer);\n",
              "            downloaded += buffer.byteLength;\n",
              "            progress.value = downloaded;\n",
              "          }\n",
              "        }\n",
              "      }\n",
              "      const blob = new Blob(buffers, {type: 'application/binary'});\n",
              "      const a = document.createElement('a');\n",
              "      a.href = window.URL.createObjectURL(blob);\n",
              "      a.download = filename;\n",
              "      div.appendChild(a);\n",
              "      a.click();\n",
              "      div.remove();\n",
              "    }\n",
              "  "
            ],
            "text/plain": [
              "<IPython.core.display.Javascript object>"
            ]
          },
          "metadata": {
            "tags": []
          }
        },
        {
          "output_type": "display_data",
          "data": {
            "application/javascript": [
              "download(\"download_3bbbfd41-9b20-4ec4-8a4a-db25e183e93e\", \"meta.tsv\", 1490)"
            ],
            "text/plain": [
              "<IPython.core.display.Javascript object>"
            ]
          },
          "metadata": {
            "tags": []
          }
        }
      ]
    }
  ]
}