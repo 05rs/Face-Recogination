{
  "nbformat": 4,
  "nbformat_minor": 0,
  "metadata": {
    "kernelspec": {
      "display_name": "Python 3",
      "language": "python",
      "name": "python3"
    },
    "language_info": {
      "codemirror_mode": {
        "name": "ipython",
        "version": 3
      },
      "file_extension": ".py",
      "mimetype": "text/x-python",
      "name": "python",
      "nbconvert_exporter": "python",
      "pygments_lexer": "ipython3",
      "version": "3.7.3"
    },
    "colab": {
      "name": "preprocessing_pipeline.ipynb",
      "provenance": []
    }
  },
  "cells": [
    {
      "cell_type": "markdown",
      "metadata": {
        "id": "Ft7rDkDsDWV0"
      },
      "source": [
        "## Preprocessing Pipeline\n",
        "\n",
        "This notebook uses a deep convolutional neural network (CNN) to extract features from input images. It follows the approach described in [[1]](https://arxiv.org/abs/1503.03832) with modifications inspired by the [OpenFace](http://cmusatyalab.github.io/openface/) project. [Keras](https://keras.io/) is used for implementing the CNN, [Dlib](http://dlib.net/) and [OpenCV](https://opencv.org/) for aligning faces on input images. \n",
        "\n",
        "- Detect, transform, and crop faces on input images. This ensures that faces are aligned before feeding them into the CNN. This preprocessing step is very important for the performance of the neural network.\n",
        "\n",
        "### Environment setup\n",
        "\n",
        "For running this notebook, create and activate a new [virtual environment](https://docs.python.org/3/tutorial/venv.html) and install the packages listed in [requirements.txt](requirements.txt) with `pip install -r requirements.txt`. Furthermore, you'll need a local copy of Dlib's face landmarks data file for running face alignment:"
      ]
    },
    {
      "cell_type": "code",
      "metadata": {
        "id": "_k_fXyNLHf1R",
        "outputId": "8da2e4b0-8ade-4da3-bd4f-b3f877778ea5",
        "colab": {
          "base_uri": "https://localhost:8080/",
          "height": 153
        }
      },
      "source": [
        "!git clone https://github.com/05rs/Face-Recogination.git\n",
        "import sys\n",
        "sys.path.append('./Face-Recogination/FaceNet')\n",
        "# !pip install -r '/content/Face-Recogination/FaceNet/requirements.txt'\n",
        "import align\n",
        "import data\n",
        "import utils\n",
        "import model\n",
        "import matplotlib.pyplot as plt\n",
        "from model import create_model"
      ],
      "execution_count": 1,
      "outputs": [
        {
          "output_type": "stream",
          "text": [
            "Cloning into 'Face-Recogination'...\n",
            "remote: Enumerating objects: 40, done.\u001b[K\n",
            "remote: Counting objects: 100% (40/40), done.\u001b[K\n",
            "remote: Compressing objects: 100% (36/36), done.\u001b[K\n",
            "remote: Total 447 (delta 10), reused 25 (delta 2), pack-reused 407\u001b[K\n",
            "Receiving objects: 100% (447/447), 133.66 MiB | 27.51 MiB/s, done.\n",
            "Resolving deltas: 100% (17/17), done.\n",
            "Checking out files: 100% (617/617), done.\n"
          ],
          "name": "stdout"
        }
      ]
    },
    {
      "cell_type": "code",
      "metadata": {
        "id": "O8yTn9MMDWV4"
      },
      "source": [
        "import bz2\n",
        "import os\n",
        "\n",
        "from urllib.request import urlopen\n",
        "\n",
        "def download_landmarks(dst_file):\n",
        "    url = 'http://dlib.net/files/shape_predictor_68_face_landmarks.dat.bz2'\n",
        "    decompressor = bz2.BZ2Decompressor()\n",
        "    \n",
        "    with urlopen(url) as src, open(dst_file, 'wb') as dst:\n",
        "        data = src.read(1024)\n",
        "        while len(data) > 0:\n",
        "            dst.write(decompressor.decompress(data))\n",
        "            data = src.read(1024)\n",
        "\n",
        "dst_dir = '/content/Face-Recogination/FaceNet/models'\n",
        "dst_file = os.path.join(dst_dir, 'landmarks.dat')\n",
        "\n",
        "if not os.path.exists(dst_file):\n",
        "    os.makedirs(dst_dir)\n",
        "    download_landmarks(dst_file)"
      ],
      "execution_count": 2,
      "outputs": []
    },
    {
      "cell_type": "markdown",
      "metadata": {
        "id": "Y2g1fASqDWWP"
      },
      "source": [
        "### Custom dataset\n",
        "To demonstrate face recognition on a custom dataset, a small subset of the [LFW](http://vis-www.cs.umass.edu/lfw/) dataset is used. It consists of 100 face images of [10 identities](images). The metadata for each image (file and identity name) are loaded into memory for later processing."
      ]
    },
    {
      "cell_type": "code",
      "metadata": {
        "id": "VCJknbuGDWWV"
      },
      "source": [
        "import numpy as np\n",
        "import os.path\n",
        "\n",
        "class IdentityMetadata():\n",
        "    def __init__(self, base, name, file):\n",
        "        # dataset base directory\n",
        "        self.base = base\n",
        "        # identity name\n",
        "        self.name = name\n",
        "        # image file name\n",
        "        self.file = file\n",
        "\n",
        "    def __repr__(self):\n",
        "        return self.image_path()\n",
        "\n",
        "    def image_path(self):\n",
        "        return os.path.join(self.base, self.name, self.file) \n",
        "    \n",
        "def load_metadata(path):\n",
        "    metadata = []\n",
        "    for i in sorted(os.listdir(path)):\n",
        "        for f in sorted(os.listdir(os.path.join(path, i))):\n",
        "            # Check file extension. Allow only jpg/jpeg' files.\n",
        "            ext = os.path.splitext(f)[1]\n",
        "            if ext == '.jpg' or ext == '.jpeg':\n",
        "                metadata.append(IdentityMetadata(path, i, f))\n",
        "    return np.array(metadata)\n",
        "\n",
        "metadata = load_metadata('/content/Face-Recogination/FaceNet/images')"
      ],
      "execution_count": 3,
      "outputs": []
    },
    {
      "cell_type": "markdown",
      "metadata": {
        "id": "UUKGsJ88DWWj"
      },
      "source": [
        "### Face alignment"
      ]
    },
    {
      "cell_type": "markdown",
      "metadata": {
        "id": "TQPPBAX6DWWm"
      },
      "source": [
        "The nn4.small2.v1 model was trained with aligned face images, therefore, the face images from the custom dataset must be aligned too. Here, we use [Dlib](http://dlib.net/) for face detection and [OpenCV](https://opencv.org/) for image transformation and cropping to produce aligned 96x96 RGB face images. By using the [AlignDlib](align.py) utility from the OpenFace project this is straightforward:"
      ]
    },
    {
      "cell_type": "code",
      "metadata": {
        "id": "OfZ4H65mDWWp",
        "outputId": "d77b282e-bf3b-4ca2-dd0c-d1561930b927",
        "colab": {
          "base_uri": "https://localhost:8080/",
          "height": 150
        }
      },
      "source": [
        "import cv2\n",
        "import matplotlib.pyplot as plt\n",
        "import matplotlib.patches as patches\n",
        "\n",
        "from align import AlignDlib\n",
        "\n",
        "%matplotlib inline\n",
        "\n",
        "def load_image(path):\n",
        "    img = cv2.imread(path, 1)\n",
        "    # OpenCV loads images with color channels\n",
        "    # in BGR order. So we need to reverse them\n",
        "    return img[...,::-1]\n",
        "\n",
        "# Initialize the OpenFace face alignment utility\n",
        "alignment = AlignDlib('/content/Face-Recogination/FaceNet/models/landmarks.dat')\n",
        "\n",
        "# Load an image of Jacques Chirac\n",
        "jc_orig = load_image(metadata[77].image_path())\n",
        "\n",
        "# Detect face and return bounding box\n",
        "bb = alignment.getLargestFaceBoundingBox(jc_orig)\n",
        "\n",
        "# Transform image using specified face landmark indices and crop image to 96x96\n",
        "jc_aligned = alignment.align(96, jc_orig, bb, landmarkIndices=AlignDlib.OUTER_EYES_AND_NOSE)\n",
        "\n",
        "# Show original image\n",
        "plt.subplot(131)\n",
        "plt.imshow(jc_orig)\n",
        "\n",
        "# Show original image with bounding box\n",
        "plt.subplot(132)\n",
        "plt.imshow(jc_orig)\n",
        "plt.gca().add_patch(patches.Rectangle((bb.left(), bb.top()), bb.width(), bb.height(), fill=False, color='red'))\n",
        "\n",
        "# Show aligned image\n",
        "plt.subplot(133)\n",
        "plt.imshow(jc_aligned);"
      ],
      "execution_count": 5,
      "outputs": [
        {
          "output_type": "display_data",
          "data": {
            "image/png": "[encoded data removed]",
            "text/plain": [
              "<Figure size 432x288 with 3 Axes>"
            ]
          },
          "metadata": {
            "tags": [],
            "needs_background": "light"
          }
        }
      ]
    },
    {
      "cell_type": "code",
      "metadata": {
        "id": "alc6V3XODWW4"
      },
      "source": [
        "import align\n",
        "import data\n",
        "import utils\n",
        "import model\n",
        "from model import create_model\n",
        "\n",
        "nn4_small2_pretrained = create_model()\n",
        "nn4_small2_pretrained.load_weights('/content/Face-Recogination/FaceNet/weights/nn4.small2.v1.h5')"
      ],
      "execution_count": 6,
      "outputs": []
    },
    {
      "cell_type": "markdown",
      "metadata": {
        "id": "oSWQ88OEDWXE"
      },
      "source": [
        "As described in the OpenFace [pre-trained models](https://cmusatyalab.github.io/openface/models-and-accuracies/#pre-trained-models) section, landmark indices `OUTER_EYES_AND_NOSE` are required for model nn4.small2.v1. Let's implement face detection, transformation and cropping as `align_image` function for later reuse."
      ]
    },
    {
      "cell_type": "code",
      "metadata": {
        "id": "_-rOsXzjDWXG"
      },
      "source": [
        "def align_image(img):\n",
        "    return alignment.align(96, img, alignment.getLargestFaceBoundingBox(img), \n",
        "                           landmarkIndices=AlignDlib.OUTER_EYES_AND_NOSE)"
      ],
      "execution_count": 7,
      "outputs": []
    },
    {
      "cell_type": "markdown",
      "metadata": {
        "id": "a-0eFWsIDWXR"
      },
      "source": [
        "### Embedding vectors"
      ]
    },
    {
      "cell_type": "markdown",
      "metadata": {
        "id": "xE0PDYFqDWXU"
      },
      "source": [
        "Embedding vectors can now be calculated by feeding the aligned and scaled images into the pre-trained network."
      ]
    },
    {
      "cell_type": "code",
      "metadata": {
        "id": "y_deLtJuDWXV",
        "outputId": "efa97a94-9526-4cc5-fbfa-acb8333cd78e",
        "colab": {
          "base_uri": "https://localhost:8080/",
          "height": 102
        }
      },
      "source": [
        "seq = {str(m.name):float(i) for i,m in enumerate(metadata)}\n",
        "embedded = np.zeros((metadata.shape[0], 128))\n",
        "label = []\n",
        "images = np.zeros((metadata.shape[0],96,96,3))\n",
        "itr =  np.zeros((metadata.shape[0], 1))\n",
        "\n",
        "for i, m in enumerate(metadata):\n",
        "    img = load_image(m.image_path())\n",
        "    img = align_image(img)\n",
        "    # scale RGB values to interval [0,1]\n",
        "    img = (img / 255.).astype(np.float32)\n",
        "    # obtain embedding vector for image\n",
        "    images[i] = img\n",
        "    embedded[i] = nn4_small2_pretrained.predict(np.expand_dims(img, axis=0))[0]\n",
        "    label.append(seq[str(metadata[i].name)])\n",
        "    \n",
        "    itr[i] = i\n",
        "label = np.array(label).reshape((metadata.shape[0], 1)) \n",
        "\n",
        "print(\"Number of image classes: \",len(seq.keys()))\n",
        "print(\"Shape of itr (image iterator): \",itr.shape)\n",
        "print(\"Shape of embedded vector: \",embedded.shape)\n",
        "print(\"Shape of label (encoded labels): \",label.shape)\n",
        "print(\"Shape of images:\",images.shape)"
      ],
      "execution_count": 8,
      "outputs": [
        {
          "output_type": "stream",
          "text": [
            "Number of image classes:  10\n",
            "Shape of itr (image iterator):  (100, 1)\n",
            "Shape of embedded vector:  (100, 128)\n",
            "Shape of label (encoded labels):  (100, 1)\n",
            "Shape of images: (100, 96, 96, 3)\n"
          ],
          "name": "stdout"
        }
      ]
    },
    {
      "cell_type": "markdown",
      "metadata": {
        "id": "ah_BpL8NDWXo"
      },
      "source": [
        "Saving the preprocessed data to pkl"
      ]
    },
    {
      "cell_type": "code",
      "metadata": {
        "id": "APkDen9MDWXq"
      },
      "source": [
        "import pickle\n",
        "\n",
        "processed_data = {'seq': seq,\n",
        "           'itr': itr,\n",
        "           'embedded': embedded,\n",
        "           'label' : label,\n",
        "           'images' : images,            \n",
        "          }\n",
        "output = open('/content/Face-Recogination/FaceNet/data/data.pkl', 'wb')\n",
        "pickle.dump(processed_data, output)\n",
        "output.close()"
      ],
      "execution_count": 10,
      "outputs": []
    }
  ]
}